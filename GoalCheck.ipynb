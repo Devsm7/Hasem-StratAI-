{
 "cells": [
  {
   "cell_type": "markdown",
   "metadata": {},
   "source": [
    "Checking the goal using the distance and numpy"
   ]
  },
  {
   "cell_type": "markdown",
   "metadata": {},
   "source": [
    "##Download the model from Roboflow"
   ]
  },
  {
   "cell_type": "code",
   "execution_count": null,
   "metadata": {},
   "outputs": [],
   "source": [
    "##MODEL TO DETECT GOALPOSTS\n",
    "from inference import get_model\n",
    "\n",
    "ROBOFLOW_API_KEY = \"ITfUpuY5QO9WTBpcEXTh\"  # Replace with your actual Roboflow API key\n",
    "\n",
    "GOALPOST_DETECTION_MODEL_ID = \"football-goalpost/3\"\n",
    "GOALPOST_DETECTION_MODEL = get_model(model_id=GOALPOST_DETECTION_MODEL_ID, api_key=ROBOFLOW_API_KEY)"
   ]
  },
  {
   "cell_type": "code",
   "execution_count": null,
   "metadata": {},
   "outputs": [],
   "source": [
    "##MODEL TO DETECT PLAYERS AND BALL AND REFREES\n",
    "from inference import get_model\n",
    "\n",
    "ROBOFLOW_API_KEY = \"ITfUpuY5QO9WTBpcEXTh\"  # Replace with your actual Roboflow API key\n",
    "\n",
    "PLAYER_DETECTION_MODEL_ID = \"football-players-detection-3zvbc/12\"\n",
    "PLAYER_DETECTION_MODEL = get_model(model_id=PLAYER_DETECTION_MODEL_ID, api_key=ROBOFLOW_API_KEY)"
   ]
  },
  {
   "cell_type": "code",
   "execution_count": null,
   "metadata": {},
   "outputs": [],
   "source": [
    "##MODEL TO CLASSIFY GOAL OR NO GOAL MOMMENT \n",
    "from inference import get_model\n",
    "\n",
    "ROBOFLOW_API_KEY = \"ITfUpuY5QO9WTBpcEXTh\"  # Replace with your actual Roboflow API key\n",
    "\n",
    "CLASSIFICATION_MODEL_ID = \"goal-ckeck-classification/4\"\n",
    "CLASSIFICATION__MODEL = get_model(model_id=CLASSIFICATION_MODEL_ID, api_key=ROBOFLOW_API_KEY)"
   ]
  },
  {
   "cell_type": "markdown",
   "metadata": {},
   "source": [
    "##import the dependecies"
   ]
  },
  {
   "cell_type": "code",
   "execution_count": null,
   "metadata": {},
   "outputs": [],
   "source": [
    "import cv2\n",
    "import numpy as np  \n",
    "import supervision as sv"
   ]
  },
  {
   "cell_type": "code",
   "execution_count": null,
   "metadata": {},
   "outputs": [],
   "source": [
    "image_path = \"C:/Users/user/Desktop/FootballAI/videos/ronaldo1.png\"  # Path to the image\n"
   ]
  },
  {
   "cell_type": "markdown",
   "metadata": {},
   "source": [
    "##DETECT THE GOALPOST SPERATELY\n"
   ]
  },
  {
   "cell_type": "code",
   "execution_count": null,
   "metadata": {},
   "outputs": [],
   "source": [
    "\n",
    "goalpost_center = None  # Variable to store the center of the goalpost\n",
    "\n",
    "image = cv2.imread(image_path)  # Load the image using OpenCV\n",
    "\n",
    "result = GOALPOST_DETECTION_MODEL.infer(image, confidence=0.3)[0]\n",
    "\n",
    "detections = sv.Detections.from_inference(result)\n",
    "print(detections.xyxy)\n",
    "\n",
    "for detection, class_id in zip(detections.xyxy, detections.class_id):\n",
    "        x_min, y_min, x_max, y_max = detection\n",
    "        goalpost_center = ((x_min + x_max) / 2, (y_min + y_max) / 2)  # Calculate the center of the goalpost\n",
    "        print(f\"Goalpost center: {goalpost_center}\")  # Print the center coordinates\n",
    "        # Draw a red dotted circle at the center\n",
    "        center_coordinates = (int(goalpost_center[0]), int(goalpost_center[1]))\n",
    "        radius = 5\n",
    "        color = (0, 0, 255)  # Red color in BGR\n",
    "        thickness = 2\n",
    "        line_type = cv2.LINE_AA  # Anti-aliased line for better quality\n",
    "        cv2.circle(image, center_coordinates, radius, color, thickness, lineType=line_type)\n",
    "        \n",
    "        break  # Stop after finding the first goalpost\n",
    "\n",
    "# Display the image with the red dotted circle\n",
    "cv2.imshow(\"Image with Center Point\", image)\n",
    "cv2.waitKey(0)\n",
    "cv2.destroyAllWindows()\n",
    "\n"
   ]
  },
  {
   "cell_type": "markdown",
   "metadata": {},
   "source": [
    "##DETECT THE BALL SPERATELY\n"
   ]
  },
  {
   "cell_type": "code",
   "execution_count": null,
   "metadata": {},
   "outputs": [],
   "source": [
    "\n",
    "ball_center = None  # Variable to store the center of the ball\n",
    "image = cv2.imread(image_path)  # Load the image using OpenCV\n",
    "BALL_ID = 0\n",
    "result = PLAYER_DETECTION_MODEL.infer(image, confidence=0.2)[0]\n",
    "\n",
    "detections = sv.Detections.from_inference(result)\n",
    "\n",
    "for detection, class_id in zip(detections.xyxy, detections.class_id):\n",
    "    if class_id == BALL_ID:\n",
    "        x_min, y_min, x_max, y_max = detection\n",
    "        ball_center = ((x_min + x_max) / 2, (y_min + y_max) / 2)  # Calculate the center of the ball\n",
    "        print(f\"Ball center: {ball_center}\")  # Print the center coordinates\n",
    "\n",
    "# Check if ball_center is not None before using it\n",
    "if ball_center is not None:\n",
    "    center_coordinates = (int(ball_center[0]), int(ball_center[1]))\n",
    "    radius = 5\n",
    "    thickness = 2\n",
    "    line_type = cv2.LINE_AA  # Anti-aliased line for better quality\n",
    "    cv2.circle(image, center_coordinates, radius, (0, 0, 255), thickness, line_type)  # Draw the circle\n",
    "\n",
    "cv2.imshow(\"Image with Center Point\", image)\n",
    "cv2.waitKey(0)\n",
    "cv2.destroyAllWindows()\n"
   ]
  },
  {
   "cell_type": "markdown",
   "metadata": {},
   "source": [
    "# Draw a red dotted circle at the center of the goalpost"
   ]
  },
  {
   "cell_type": "code",
   "execution_count": null,
   "metadata": {},
   "outputs": [],
   "source": [
    "if goalpost_center is not None:\n",
    "    goalpost_center_coordinates = (int(goalpost_center[0]), int(goalpost_center[1]))\n",
    "    cv2.circle(image, goalpost_center_coordinates, radius, (0, 0, 255), thickness, lineType=line_type)\n",
    "\n",
    "# Draw a red dotted circle at the center of the ball\n",
    "if ball_center is not None:\n",
    "    ball_center_coordinates = (int(ball_center[0]), int(ball_center[1]))\n",
    "    cv2.circle(image, ball_center_coordinates, radius, (0, 0, 255), thickness, lineType=line_type)\n",
    "\n",
    "# Display the image with both circles\n",
    "cv2.imshow(\"Image with Goalpost and Ball Centers\", image)\n",
    "cv2.waitKey(0)\n",
    "cv2.destroyAllWindows()"
   ]
  },
  {
   "cell_type": "code",
   "execution_count": null,
   "metadata": {},
   "outputs": [],
   "source": [
    "print(f\"Goalpost center: {goalpost_center}\")  # Print the center coordinates of the goalpost\n",
    "print(f\"Ball center: {ball_center}\")  # Print the center coordinates of the ball"
   ]
  },
  {
   "cell_type": "markdown",
   "metadata": {},
   "source": [
    "##Calculate the Euclidean distance between goalpost_center and ball_center\n"
   ]
  },
  {
   "cell_type": "code",
   "execution_count": null,
   "metadata": {},
   "outputs": [],
   "source": [
    "distance = np.sqrt((goalpost_center[0] - ball_center[0])**2 + (goalpost_center[1] - ball_center[1])**2)\n",
    "\n",
    "# Define a threshold for \"close enough\" (you can adjust this value as needed)\n",
    "threshold =50  # Example threshold\n",
    "\n",
    "# Determine if it's a goal\n",
    "if distance <= threshold:\n",
    "    result = \"Goal\"\n",
    "else:\n",
    "    result = \"Not Goal\"\n",
    "\n",
    "print(f\"Distance: {distance}\")\n",
    "print(f\"Result: {result}\")"
   ]
  },
  {
   "cell_type": "markdown",
   "metadata": {},
   "source": [
    "    ## Classify the Goal with classification model"
   ]
  },
  {
   "cell_type": "code",
   "execution_count": null,
   "metadata": {},
   "outputs": [],
   "source": [
    "\n",
    "    \n",
    "def classify_goal():\n",
    "        classification_result = CLASSIFICATION__MODEL.infer(image)  # Pass the image to the classifier\n",
    "        goal_prediction = classification_result[0]  # Access the first prediction from the list\n",
    "        goal_label = goal_prediction.predicted_classes[0]  # Get the predicted class\n",
    "        goal_probability = goal_prediction.predictions[goal_label].confidence  # Get the confidence score\n",
    "        return goal_label,goal_probability\n",
    "\n",
    "goal_label, goal_probability = classify_goal()  # Use the correct attribute for the confidence score\n",
    "    \n",
    "    print(f\"Classification Model Prediction: {goal_label} (Confidence: {goal_probability * 100:.2f}%)\")\n",
    "    \n",
    "    if goal_label == \"goal\":\n",
    "        print(\"Goal detected!\")\n",
    "    elif goal_label == \"nogoal\":\n",
    "        print(\"No Goal detected.\")\n",
    "    else:\n",
    "        print(\"Ball or goalpost not detected.\")"
   ]
  },
  {
   "cell_type": "markdown",
   "metadata": {},
   "source": [
    "##generating video detect the goal by calculating the distance between the goalpost and the ball , and if the distance close enough it classify the frame and double check the goal frame"
   ]
  },
  {
   "cell_type": "code",
   "execution_count": null,
   "metadata": {},
   "outputs": [],
   "source": [
    "# Path to the video file\n",
    "video_path = \"C:/Users/user/Desktop/FootballAI/videos/english.mp4\"\n",
    "\n",
    "# Path to save the resulting video\n",
    "output_video_path = \"C:/Users/user/Desktop/FootballAI/videos/resulting_video5.mp4\"\n",
    "\n",
    "# Open the video file\n",
    "cap = cv2.VideoCapture(video_path)\n",
    "\n",
    "# Get video properties\n",
    "frame_width = int(cap.get(cv2.CAP_PROP_FRAME_WIDTH))\n",
    "frame_height = int(cap.get(cv2.CAP_PROP_FRAME_HEIGHT))\n",
    "fps = int(cap.get(cv2.CAP_PROP_FPS))\n",
    "\n",
    "# Initialize the video writer\n",
    "fourcc = cv2.VideoWriter_fourcc(*'mp4v')  # Codec for MP4 format\n",
    "out = cv2.VideoWriter(output_video_path, fourcc, fps, (frame_width, frame_height))\n",
    "\n",
    "# Initialize the goal counter\n",
    "goal_counter = 0\n",
    "\n",
    "# Loop over frames in the video\n",
    "while cap.isOpened():\n",
    "    ret, frame = cap.read()\n",
    "    if not ret:\n",
    "        break  # Exit the loop if no more frames are available\n",
    "   # goalpost_center = infer_goalpost_center(frame)  # Call the function to get the goalpost center\n",
    "   # ball_center = infer_ball_center(frame)  # Call the function to get the ball center\n",
    "\n",
    "    distance = np.sqrt((goalpost_center[0] - ball_center[0])**2 + (goalpost_center[1] - ball_center[1])**2)  # Calculate the distance\n",
    "\n",
    "    threshold = 50  # Example threshold for \"close enough\"\n",
    "\n",
    "    if distance <= threshold:\n",
    "       # Use the classification model to double-check\n",
    "        classification_result = CLASSIFICATION__MODEL.infer(frame)  # Pass the image to the classifier\n",
    "        goal_prediction = classification_result[0]  # Access the first prediction from the list\n",
    "        goal_label = goal_prediction.predicted_classes[0]  # Get the predicted class\n",
    "        goal_probability = goal_prediction.predictions[goal_label].confidence  # Get the confidence score\n",
    "\n",
    "        if goal_label == \"goal\" and goal_probability > 0.8 and goal_counter == 0: #Confidence threshold for classification\n",
    "            goal_counter += 1 # Increment the goal counter\n",
    "\n",
    "    # Display the frame with the goal counter\n",
    "    cv2.putText(frame, f\"Goals Scored: {goal_counter}\", (50, 50), cv2.FONT_HERSHEY_SIMPLEX, 2, (0, 255, 0), 3)\n",
    "\n",
    "    # Write the frame to the output video\n",
    "    out.write(frame)\n",
    "\n",
    "    # Optionally display the frame (can be commented out if not needed)\n",
    "    cv2.imshow(\"Video\", frame)\n",
    "\n",
    "    # Break the loop if 'q' is pressed\n",
    "    if cv2.waitKey(1) & 0xFF == ord('q'):\n",
    "        break\n",
    "\n",
    "# Release the video capture and writer objects, and close all OpenCV windows\n",
    "cap.release()\n",
    "out.release()\n",
    "cv2.destroyAllWindows()\n",
    "\n",
    "print(f\"Resulting video saved at: {output_video_path}\")"
   ]
  },
  {
   "cell_type": "markdown",
   "metadata": {},
   "source": [
    "##methods to get the centers of goalpost and ball"
   ]
  },
  {
   "cell_type": "code",
   "execution_count": null,
   "metadata": {},
   "outputs": [],
   "source": [
    " video_path = \"C:/Users/user/Desktop/FootballAI/videos/english.mp4\"\n",
    " frame_generator = sv.get_video_frames_generator(video_path)\n",
    " frame = frame_generator.__next__() \n",
    " BALL_ID=0\n",
    "\n",
    "def infer_goalpost_center(frame):\n",
    "    \n",
    "    goalpost_result = GOALPOST_DETECTION_MODEL.infer(frame, confidence=0.3)[0]\n",
    "    goalpost_detections = sv.Detections.from_inference(goalpost_result)\n",
    "    for detection in goalpost_detections.xyxy:\n",
    "        x_min, y_min, x_max, y_max = detection\n",
    "        return ((x_min + x_max) / 2, (y_min + y_max) / 2)  # Return the center of the goalpost\n",
    "    return None  # Return None if no goalpost is found\n",
    "\n",
    "# Use the function to infer the goalpost center\n",
    "goalpost_center = infer_goalpost_center(frame)\n",
    "\n",
    "def infer_ball_center(frame):\n",
    "    ball_result = PLAYER_DETECTION_MODEL.infer(frame, confidence=0.5)[0]\n",
    "    ball_detections = sv.Detections.from_inference(ball_result)\n",
    "    for detection, class_id in zip(ball_detections.xyxy, ball_detections.class_id):\n",
    "        if class_id == BALL_ID:\n",
    "            x_min, y_min, x_max, y_max = detection\n",
    "            return ((x_min + x_max) / 2, (y_min + y_max) / 2)  # Return the center of the ball\n",
    "    return None  # Return None if no ball is found\n",
    "\n",
    "# Use the function to infer the ball center\n",
    "ball_center = infer_ball_center(frame)\n",
    "print(f\"Goalpost center: {goalpost_center}\")  # Print the center coordinates of the goalpost\n",
    "print(f\"Ball center: {ball_center}\")  # Print the center coordinates of the ball"
   ]
  }
 ],
 "metadata": {
  "kernelspec": {
   "display_name": "Python 3",
   "language": "python",
   "name": "python3"
  },
  "language_info": {
   "codemirror_mode": {
    "name": "ipython",
    "version": 3
   },
   "file_extension": ".py",
   "mimetype": "text/x-python",
   "name": "python",
   "nbconvert_exporter": "python",
   "pygments_lexer": "ipython3",
   "version": "3.11.3"
  }
 },
 "nbformat": 4,
 "nbformat_minor": 2
}
