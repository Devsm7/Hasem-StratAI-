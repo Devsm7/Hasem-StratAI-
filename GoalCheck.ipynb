{
 "cells": [
  {
   "cell_type": "markdown",
   "metadata": {},
   "source": [
    "Checking the goal using the distance and numpy"
   ]
  },
  {
   "cell_type": "code",
   "execution_count": 4,
   "metadata": {},
   "outputs": [],
   "source": [
    "##MODEL TO DETECT GOALPOSTS\n",
    "from inference import get_model\n",
    "\n",
    "ROBOFLOW_API_KEY = \"ITfUpuY5QO9WTBpcEXTh\"  # Replace with your actual Roboflow API key\n",
    "\n",
    "GOAL_DETECTION_MODEL_ID = \"football-goalpost/3\"\n",
    "GOAL_DETECTION_MODEL = get_model(model_id=GOAL_DETECTION_MODEL_ID, api_key=ROBOFLOW_API_KEY)"
   ]
  },
  {
   "cell_type": "code",
   "execution_count": 3,
   "metadata": {},
   "outputs": [],
   "source": [
    "##MODEL TO DETECT PLAYERS AND BALL AND REFREES\n",
    "from inference import get_model\n",
    "\n",
    "ROBOFLOW_API_KEY = \"ITfUpuY5QO9WTBpcEXTh\"  # Replace with your actual Roboflow API key\n",
    "\n",
    "PLAYER_DETECTION_MODEL_ID = \"football-players-detection-3zvbc/12\"\n",
    "PLAYER_DETECTION_MODEL = get_model(model_id=PLAYER_DETECTION_MODEL_ID, api_key=ROBOFLOW_API_KEY)"
   ]
  },
  {
   "cell_type": "code",
   "execution_count": 2,
   "metadata": {},
   "outputs": [
    {
     "data": {
      "text/html": [
       "<pre style=\"white-space:pre;overflow-x:auto;line-height:normal;font-family:Menlo,'DejaVu Sans Mono',consolas,'Courier New',monospace\"><span style=\"color: #7fbfbf; text-decoration-color: #7fbfbf\">[04/10/25 08:06:24] </span><span style=\"color: #800000; text-decoration-color: #800000\">WARNING </span> Your inference package version <span style=\"color: #008080; text-decoration-color: #008080; font-weight: bold\">0.43</span>.<span style=\"color: #008080; text-decoration-color: #008080; font-weight: bold\">0</span> is out of date! Please upgrade to <a href=\"file://c:\\Users\\user\\AppData\\Local\\Programs\\Python\\Python311\\Lib\\site-packages\\inference\\core\\__init__.py\" target=\"_blank\"><span style=\"color: #7f7f7f; text-decoration-color: #7f7f7f\">__init__.py</span></a><span style=\"color: #7f7f7f; text-decoration-color: #7f7f7f\">:</span><a href=\"file://c:\\Users\\user\\AppData\\Local\\Programs\\Python\\Python311\\Lib\\site-packages\\inference\\core\\__init__.py#41\" target=\"_blank\"><span style=\"color: #7f7f7f; text-decoration-color: #7f7f7f\">41</span></a>\n",
       "<span style=\"color: #7fbfbf; text-decoration-color: #7fbfbf\">                    </span>         version <span style=\"color: #008080; text-decoration-color: #008080; font-weight: bold\">0.46</span>.<span style=\"color: #008080; text-decoration-color: #008080; font-weight: bold\">4</span> of inference for the latest features and bug fixes by    <span style=\"color: #7f7f7f; text-decoration-color: #7f7f7f\">              </span>\n",
       "<span style=\"color: #7fbfbf; text-decoration-color: #7fbfbf\">                    </span>         running `pip install --upgrade inference`.                              <span style=\"color: #7f7f7f; text-decoration-color: #7f7f7f\">              </span>\n",
       "</pre>\n"
      ],
      "text/plain": [
       "\u001b[2;36m[04/10/25 08:06:24]\u001b[0m\u001b[2;36m \u001b[0m\u001b[31mWARNING \u001b[0m Your inference package version \u001b[1;36m0.43\u001b[0m.\u001b[1;36m0\u001b[0m is out of date! Please upgrade to \u001b]8;id=549696;file://c:\\Users\\user\\AppData\\Local\\Programs\\Python\\Python311\\Lib\\site-packages\\inference\\core\\__init__.py\u001b\\\u001b[2m__init__.py\u001b[0m\u001b]8;;\u001b\\\u001b[2m:\u001b[0m\u001b]8;id=874270;file://c:\\Users\\user\\AppData\\Local\\Programs\\Python\\Python311\\Lib\\site-packages\\inference\\core\\__init__.py#41\u001b\\\u001b[2m41\u001b[0m\u001b]8;;\u001b\\\n",
       "\u001b[2;36m                    \u001b[0m         version \u001b[1;36m0.46\u001b[0m.\u001b[1;36m4\u001b[0m of inference for the latest features and bug fixes by    \u001b[2m              \u001b[0m\n",
       "\u001b[2;36m                    \u001b[0m         running `pip install --upgrade inference`.                              \u001b[2m              \u001b[0m\n"
      ]
     },
     "metadata": {},
     "output_type": "display_data"
    },
    {
     "name": "stderr",
     "output_type": "stream",
     "text": [
      "TqdmWarning: IProgress not found. Please update jupyter and ipywidgets. See https://ipywidgets.readthedocs.io/en/stable/user_install.html\n",
      "ModelDependencyMissing: Your `inference` configuration does not support PaliGemma model. Use pip install 'inference[transformers]' to install missing requirements.\n",
      "ModelDependencyMissing: Your `inference` configuration does not support Florence2 model. Use pip install 'inference[transformers]' to install missing requirements.\n",
      "ModelDependencyMissing: Your `inference` configuration does not support Qwen2.5-VL model. Use pip install 'inference[transformers]' to install missing requirements.\n",
      "ModelDependencyMissing: Your `inference` configuration does not support SAM model. Use pip install 'inference[sam]' to install missing requirements.\n",
      "ModelDependencyMissing: Your `inference` configuration does not support SAM model. Use pip install 'inference[sam]' to install missing requirements.\n",
      "ModelDependencyMissing: Your `inference` configuration does not support SAM model. Use pip install 'inference[clip]' to install missing requirements.\n",
      "ModelDependencyMissing: Your `inference` configuration does not support Gaze Detection model. Use pip install 'inference[gaze]' to install missing requirements.\n",
      "ModelDependencyMissing: Your `inference` configuration does not support GroundingDINO model. Use pip install 'inference[grounding-dino]' to install missing requirements.\n",
      "ModelDependencyMissing: Your `inference` configuration does not support YoloWorld model. Use pip install 'inference[yolo-world]' to install missing requirements.\n",
      "UserWarning: Specified provider 'OpenVINOExecutionProvider' is not in available provider names.Available providers: 'TensorrtExecutionProvider, CUDAExecutionProvider, CPUExecutionProvider'\n",
      "UserWarning: Specified provider 'CoreMLExecutionProvider' is not in available provider names.Available providers: 'TensorrtExecutionProvider, CUDAExecutionProvider, CPUExecutionProvider'\n"
     ]
    }
   ],
   "source": [
    "##MODEL TO CLASSIFY GOAL OR NO GOAL MOMMENT \n",
    "from inference import get_model\n",
    "\n",
    "ROBOFLOW_API_KEY = \"ITfUpuY5QO9WTBpcEXTh\"  # Replace with your actual Roboflow API key\n",
    "\n",
    "CLASSIFICATION_MODEL_ID = \"goal-ckeck-classification/4\"\n",
    "CLASSIFICATION__MODEL = get_model(model_id=CLASSIFICATION_MODEL_ID, api_key=ROBOFLOW_API_KEY)"
   ]
  },
  {
   "cell_type": "code",
   "execution_count": 5,
   "metadata": {},
   "outputs": [],
   "source": [
    "import cv2\n",
    "import numpy as np  \n",
    "import supervision as sv"
   ]
  },
  {
   "cell_type": "code",
   "execution_count": 6,
   "metadata": {},
   "outputs": [],
   "source": [
    "image_path = \"C:/Users/user/Desktop/FootballAI/videos/ronaldo1.png\"  # Path to the image\n"
   ]
  },
  {
   "cell_type": "code",
   "execution_count": 6,
   "metadata": {},
   "outputs": [
    {
     "name": "stdout",
     "output_type": "stream",
     "text": [
      "[[ 892.  110. 1234.  415.]]\n",
      "Goalpost center: (1063.0, 262.5)\n"
     ]
    }
   ],
   "source": [
    "#DETECT THE GOALPOST SPERATELY\n",
    "\n",
    "goalpost_center = None  # Variable to store the center of the goalpost\n",
    "\n",
    "image = cv2.imread(image_path)  # Load the image using OpenCV\n",
    "\n",
    "result = GOAL_DETECTION_MODEL.infer(image, confidence=0.3)[0]\n",
    "\n",
    "detections = sv.Detections.from_inference(result)\n",
    "print(detections.xyxy)\n",
    "\n",
    "for detection, class_id in zip(detections.xyxy, detections.class_id):\n",
    "        x_min, y_min, x_max, y_max = detection\n",
    "        goalpost_center = ((x_min + x_max) / 2, (y_min + y_max) / 2)  # Calculate the center of the goalpost\n",
    "        print(f\"Goalpost center: {goalpost_center}\")  # Print the center coordinates\n",
    "        # Draw a red dotted circle at the center\n",
    "        center_coordinates = (int(goalpost_center[0]), int(goalpost_center[1]))\n",
    "        radius = 5\n",
    "        color = (0, 0, 255)  # Red color in BGR\n",
    "        thickness = 2\n",
    "        line_type = cv2.LINE_AA  # Anti-aliased line for better quality\n",
    "        cv2.circle(image, center_coordinates, radius, color, thickness, lineType=line_type)\n",
    "        \n",
    "        break  # Stop after finding the first goalpost\n",
    "\n",
    "# Display the image with the red dotted circle\n",
    "cv2.imshow(\"Image with Center Point\", image)\n",
    "cv2.waitKey(0)\n",
    "cv2.destroyAllWindows()\n",
    "\n"
   ]
  },
  {
   "cell_type": "code",
   "execution_count": 7,
   "metadata": {},
   "outputs": [
    {
     "name": "stdout",
     "output_type": "stream",
     "text": [
      "Ball center: (866.5, 272.0)\n",
      "Ball center: (1352.5, 406.0)\n"
     ]
    }
   ],
   "source": [
    "#DETECT THE BALL SPERATELY\n",
    "\n",
    "ball_center = None  # Variable to store the center of the ball\n",
    "image = cv2.imread(image_path)  # Load the image using OpenCV\n",
    "BALL_ID = 0\n",
    "result = PLAYER_DETECTION_MODEL.infer(image, confidence=0.2)[0]\n",
    "\n",
    "detections = sv.Detections.from_inference(result)\n",
    "\n",
    "for detection, class_id in zip(detections.xyxy, detections.class_id):\n",
    "    if class_id == BALL_ID:\n",
    "        x_min, y_min, x_max, y_max = detection\n",
    "        ball_center = ((x_min + x_max) / 2, (y_min + y_max) / 2)  # Calculate the center of the ball\n",
    "        print(f\"Ball center: {ball_center}\")  # Print the center coordinates\n",
    "\n",
    "# Check if ball_center is not None before using it\n",
    "if ball_center is not None:\n",
    "    center_coordinates = (int(ball_center[0]), int(ball_center[1]))\n",
    "    radius = 5\n",
    "    thickness = 2\n",
    "    line_type = cv2.LINE_AA  # Anti-aliased line for better quality\n",
    "    cv2.circle(image, center_coordinates, radius, (0, 0, 255), thickness, line_type)  # Draw the circle\n",
    "\n",
    "cv2.imshow(\"Image with Center Point\", image)\n",
    "cv2.waitKey(0)\n",
    "cv2.destroyAllWindows()\n"
   ]
  },
  {
   "cell_type": "code",
   "execution_count": 56,
   "metadata": {},
   "outputs": [],
   "source": [
    "# Draw a red dotted circle at the center of the goalpost\n",
    "if goalpost_center is not None:\n",
    "    goalpost_center_coordinates = (int(goalpost_center[0]), int(goalpost_center[1]))\n",
    "    cv2.circle(image, goalpost_center_coordinates, radius, (0, 0, 255), thickness, lineType=line_type)\n",
    "\n",
    "# Draw a red dotted circle at the center of the ball\n",
    "if ball_center is not None:\n",
    "    ball_center_coordinates = (int(ball_center[0]), int(ball_center[1]))\n",
    "    cv2.circle(image, ball_center_coordinates, radius, (0, 0, 255), thickness, lineType=line_type)\n",
    "\n",
    "# Display the image with both circles\n",
    "cv2.imshow(\"Image with Goalpost and Ball Centers\", image)\n",
    "cv2.waitKey(0)\n",
    "cv2.destroyAllWindows()"
   ]
  },
  {
   "cell_type": "code",
   "execution_count": 57,
   "metadata": {},
   "outputs": [
    {
     "name": "stdout",
     "output_type": "stream",
     "text": [
      "Goalpost center: (1629.5, 208.5)\n",
      "Ball center: (1191.0, 248.0)\n"
     ]
    }
   ],
   "source": [
    "print(f\"Goalpost center: {goalpost_center}\")  # Print the center coordinates of the goalpost\n",
    "print(f\"Ball center: {ball_center}\")  # Print the center coordinates of the ball"
   ]
  },
  {
   "cell_type": "code",
   "execution_count": 116,
   "metadata": {},
   "outputs": [
    {
     "name": "stdout",
     "output_type": "stream",
     "text": [
      "Distance: 322.90130070967507\n",
      "Result: Not Goal\n"
     ]
    }
   ],
   "source": [
    "# Calculate the Euclidean distance between goalpost_center and ball_center\n",
    "distance = np.sqrt((goalpost_center[0] - ball_center[0])**2 + (goalpost_center[1] - ball_center[1])**2)\n",
    "\n",
    "# Define a threshold for \"close enough\" (you can adjust this value as needed)\n",
    "threshold =50  # Example threshold\n",
    "\n",
    "# Determine if it's a goal\n",
    "if distance <= threshold:\n",
    "    result = \"Goal\"\n",
    "else:\n",
    "    result = \"Not Goal\"\n",
    "\n",
    "print(f\"Distance: {distance}\")\n",
    "print(f\"Result: {result}\")"
   ]
  },
  {
   "cell_type": "code",
   "execution_count": 7,
   "metadata": {},
   "outputs": [
    {
     "ename": "NameError",
     "evalue": "name 'image' is not defined",
     "output_type": "error",
     "traceback": [
      "\u001b[1;31m---------------------------------------------------------------------------\u001b[0m",
      "\u001b[1;31mNameError\u001b[0m                                 Traceback (most recent call last)",
      "Cell \u001b[1;32mIn[7], line 9\u001b[0m\n\u001b[0;32m      6\u001b[0m     goal_probability \u001b[38;5;241m=\u001b[39m goal_prediction\u001b[38;5;241m.\u001b[39mpredictions[goal_label]\u001b[38;5;241m.\u001b[39mconfidence  \u001b[38;5;66;03m# Get the confidence score\u001b[39;00m\n\u001b[0;32m      7\u001b[0m     \u001b[38;5;28;01mreturn\u001b[39;00m goal_label,goal_probability\n\u001b[1;32m----> 9\u001b[0m goal_label, goal_probability \u001b[38;5;241m=\u001b[39m \u001b[43mclassify_goal\u001b[49m\u001b[43m(\u001b[49m\u001b[43m)\u001b[49m  \u001b[38;5;66;03m# Use the correct attribute for the confidence score\u001b[39;00m\n\u001b[0;32m     11\u001b[0m \u001b[38;5;28mprint\u001b[39m(\u001b[38;5;124mf\u001b[39m\u001b[38;5;124m\"\u001b[39m\u001b[38;5;124mClassification Model Prediction: \u001b[39m\u001b[38;5;132;01m{\u001b[39;00mgoal_label\u001b[38;5;132;01m}\u001b[39;00m\u001b[38;5;124m (Confidence: \u001b[39m\u001b[38;5;132;01m{\u001b[39;00mgoal_probability\u001b[38;5;250m \u001b[39m\u001b[38;5;241m*\u001b[39m\u001b[38;5;250m \u001b[39m\u001b[38;5;241m100\u001b[39m\u001b[38;5;132;01m:\u001b[39;00m\u001b[38;5;124m.2f\u001b[39m\u001b[38;5;132;01m}\u001b[39;00m\u001b[38;5;124m%)\u001b[39m\u001b[38;5;124m\"\u001b[39m)\n\u001b[0;32m     13\u001b[0m \u001b[38;5;28;01mif\u001b[39;00m goal_label \u001b[38;5;241m==\u001b[39m \u001b[38;5;124m\"\u001b[39m\u001b[38;5;124mgoal\u001b[39m\u001b[38;5;124m\"\u001b[39m:\n",
      "Cell \u001b[1;32mIn[7], line 3\u001b[0m, in \u001b[0;36mclassify_goal\u001b[1;34m()\u001b[0m\n\u001b[0;32m      2\u001b[0m \u001b[38;5;28;01mdef\u001b[39;00m\u001b[38;5;250m \u001b[39m\u001b[38;5;21mclassify_goal\u001b[39m():\n\u001b[1;32m----> 3\u001b[0m     classification_result \u001b[38;5;241m=\u001b[39m CLASSIFICATION__MODEL\u001b[38;5;241m.\u001b[39minfer(\u001b[43mimage\u001b[49m)  \u001b[38;5;66;03m# Pass the image to the classifier\u001b[39;00m\n\u001b[0;32m      4\u001b[0m     goal_prediction \u001b[38;5;241m=\u001b[39m classification_result[\u001b[38;5;241m0\u001b[39m]  \u001b[38;5;66;03m# Access the first prediction from the list\u001b[39;00m\n\u001b[0;32m      5\u001b[0m     goal_label \u001b[38;5;241m=\u001b[39m goal_prediction\u001b[38;5;241m.\u001b[39mpredicted_classes[\u001b[38;5;241m0\u001b[39m]  \u001b[38;5;66;03m# Get the predicted class\u001b[39;00m\n",
      "\u001b[1;31mNameError\u001b[0m: name 'image' is not defined"
     ]
    }
   ],
   "source": [
    "\n",
    "    \n",
    "    # If the ball is close enough to the goal, verify with classification model\n",
    "def classify_goal():\n",
    "        classification_result = CLASSIFICATION__MODEL.infer(image)  # Pass the image to the classifier\n",
    "        goal_prediction = classification_result[0]  # Access the first prediction from the list\n",
    "        goal_label = goal_prediction.predicted_classes[0]  # Get the predicted class\n",
    "        goal_probability = goal_prediction.predictions[goal_label].confidence  # Get the confidence score\n",
    "        return goal_label,goal_probability\n",
    "\n",
    "goal_label, goal_probability = classify_goal()  # Use the correct attribute for the confidence score\n",
    "    \n",
    "    print(f\"Classification Model Prediction: {goal_label} (Confidence: {goal_probability * 100:.2f}%)\")\n",
    "    \n",
    "    if goal_label == \"goal\":\n",
    "        print(\"Goal detected!\")\n",
    "    elif goal_label == \"nogoal\":\n",
    "        print(\"No Goal detected.\")\n",
    "    else:\n",
    "        print(\"Ball or goalpost not detected.\")"
   ]
  },
  {
   "cell_type": "code",
   "execution_count": null,
   "metadata": {},
   "outputs": [
    {
     "ename": "TypeError",
     "evalue": "'NoneType' object is not subscriptable",
     "output_type": "error",
     "traceback": [
      "\u001b[1;31m---------------------------------------------------------------------------\u001b[0m",
      "\u001b[1;31mTypeError\u001b[0m                                 Traceback (most recent call last)",
      "Cell \u001b[1;32mIn[11], line 30\u001b[0m\n\u001b[0;32m     27\u001b[0m goalpost_center \u001b[38;5;241m=\u001b[39m infer_goalpost_center(frame)  \u001b[38;5;66;03m# Call the function to get the goalpost center\u001b[39;00m\n\u001b[0;32m     28\u001b[0m ball_center \u001b[38;5;241m=\u001b[39m infer_ball_center(frame)  \u001b[38;5;66;03m# Call the function to get the ball center\u001b[39;00m\n\u001b[1;32m---> 30\u001b[0m distance \u001b[38;5;241m=\u001b[39m np\u001b[38;5;241m.\u001b[39msqrt((goalpost_center[\u001b[38;5;241m0\u001b[39m] \u001b[38;5;241m-\u001b[39m \u001b[43mball_center\u001b[49m\u001b[43m[\u001b[49m\u001b[38;5;241;43m0\u001b[39;49m\u001b[43m]\u001b[49m)\u001b[38;5;241m*\u001b[39m\u001b[38;5;241m*\u001b[39m\u001b[38;5;241m2\u001b[39m \u001b[38;5;241m+\u001b[39m (goalpost_center[\u001b[38;5;241m1\u001b[39m] \u001b[38;5;241m-\u001b[39m ball_center[\u001b[38;5;241m1\u001b[39m])\u001b[38;5;241m*\u001b[39m\u001b[38;5;241m*\u001b[39m\u001b[38;5;241m2\u001b[39m)  \u001b[38;5;66;03m# Calculate the distance\u001b[39;00m\n\u001b[0;32m     32\u001b[0m threshold \u001b[38;5;241m=\u001b[39m \u001b[38;5;241m50\u001b[39m  \u001b[38;5;66;03m# Example threshold for \"close enough\"\u001b[39;00m\n\u001b[0;32m     34\u001b[0m \u001b[38;5;28;01mif\u001b[39;00m distance \u001b[38;5;241m<\u001b[39m\u001b[38;5;241m=\u001b[39m threshold:\n\u001b[0;32m     35\u001b[0m    \u001b[38;5;66;03m# Use the classification model to double-check\u001b[39;00m\n",
      "\u001b[1;31mTypeError\u001b[0m: 'NoneType' object is not subscriptable"
     ]
    },
    {
     "ename": "",
     "evalue": "",
     "output_type": "error",
     "traceback": [
      "\u001b[1;31mThe Kernel crashed while executing code in the current cell or a previous cell. \n",
      "\u001b[1;31mPlease review the code in the cell(s) to identify a possible cause of the failure. \n",
      "\u001b[1;31mClick <a href='https://aka.ms/vscodeJupyterKernelCrash'>here</a> for more info. \n",
      "\u001b[1;31mView Jupyter <a href='command:jupyter.viewOutput'>log</a> for further details."
     ]
    }
   ],
   "source": [
    "# Path to the video file\n",
    "video_path = \"C:/Users/user/Desktop/FootballAI/videos/english.mp4\"\n",
    "\n",
    "# Path to save the resulting video\n",
    "output_video_path = \"C:/Users/user/Desktop/FootballAI/videos/resulting_video5.mp4\"\n",
    "\n",
    "# Open the video file\n",
    "cap = cv2.VideoCapture(video_path)\n",
    "\n",
    "# Get video properties\n",
    "frame_width = int(cap.get(cv2.CAP_PROP_FRAME_WIDTH))\n",
    "frame_height = int(cap.get(cv2.CAP_PROP_FRAME_HEIGHT))\n",
    "fps = int(cap.get(cv2.CAP_PROP_FPS))\n",
    "\n",
    "# Initialize the video writer\n",
    "fourcc = cv2.VideoWriter_fourcc(*'mp4v')  # Codec for MP4 format\n",
    "out = cv2.VideoWriter(output_video_path, fourcc, fps, (frame_width, frame_height))\n",
    "\n",
    "# Initialize the goal counter\n",
    "goal_counter = 0\n",
    "\n",
    "# Loop over frames in the video\n",
    "while cap.isOpened():\n",
    "    ret, frame = cap.read()\n",
    "    if not ret:\n",
    "        break  # Exit the loop if no more frames are available\n",
    "   # goalpost_center = infer_goalpost_center(frame)  # Call the function to get the goalpost center\n",
    "   # ball_center = infer_ball_center(frame)  # Call the function to get the ball center\n",
    "\n",
    "    distance = np.sqrt((goalpost_center[0] - ball_center[0])**2 + (goalpost_center[1] - ball_center[1])**2)  # Calculate the distance\n",
    "\n",
    "    threshold = 50  # Example threshold for \"close enough\"\n",
    "\n",
    "    if distance <= threshold:\n",
    "       # Use the classification model to double-check\n",
    "        classification_result = CLASSIFICATION__MODEL.infer(frame)  # Pass the image to the classifier\n",
    "        goal_prediction = classification_result[0]  # Access the first prediction from the list\n",
    "        goal_label = goal_prediction.predicted_classes[0]  # Get the predicted class\n",
    "        goal_probability = goal_prediction.predictions[goal_label].confidence  # Get the confidence score\n",
    "\n",
    "        if goal_label == \"goal\" and goal_probability > 0.8 and goal_counter == 0: #Confidence threshold for classification\n",
    "            goal_counter += 1 # Increment the goal counter\n",
    "\n",
    "    # Display the frame with the goal counter\n",
    "    cv2.putText(frame, f\"Goals Scored: {goal_counter}\", (50, 50), cv2.FONT_HERSHEY_SIMPLEX, 2, (0, 255, 0), 3)\n",
    "\n",
    "    # Write the frame to the output video\n",
    "    out.write(frame)\n",
    "\n",
    "    # Optionally display the frame (can be commented out if not needed)\n",
    "    cv2.imshow(\"Video\", frame)\n",
    "\n",
    "    # Break the loop if 'q' is pressed\n",
    "    if cv2.waitKey(1) & 0xFF == ord('q'):\n",
    "        break\n",
    "\n",
    "# Release the video capture and writer objects, and close all OpenCV windows\n",
    "cap.release()\n",
    "out.release()\n",
    "cv2.destroyAllWindows()\n",
    "\n",
    "print(f\"Resulting video saved at: {output_video_path}\")"
   ]
  },
  {
   "cell_type": "code",
   "execution_count": 10,
   "metadata": {},
   "outputs": [
    {
     "name": "stdout",
     "output_type": "stream",
     "text": [
      "Goalpost center: (1565.0, 219.5)\n",
      "Ball center: (1049.0, 345.0)\n"
     ]
    }
   ],
   "source": [
    " video_path = \"C:/Users/user/Desktop/FootballAI/videos/english.mp4\"\n",
    " frame_generator = sv.get_video_frames_generator(video_path)\n",
    " frame = frame_generator.__next__() \n",
    " BALL_ID=0\n",
    "\n",
    "def infer_goalpost_center(frame):\n",
    "    \n",
    "    goalpost_result = GOAL_DETECTION_MODEL.infer(frame, confidence=0.3)[0]\n",
    "    goalpost_detections = sv.Detections.from_inference(goalpost_result)\n",
    "    for detection in goalpost_detections.xyxy:\n",
    "        x_min, y_min, x_max, y_max = detection\n",
    "        return ((x_min + x_max) / 2, (y_min + y_max) / 2)  # Return the center of the goalpost\n",
    "    return None  # Return None if no goalpost is found\n",
    "\n",
    "# Use the function to infer the goalpost center\n",
    "goalpost_center = infer_goalpost_center(frame)\n",
    "\n",
    "def infer_ball_center(frame):\n",
    "    ball_result = PLAYER_DETECTION_MODEL.infer(frame, confidence=0.5)[0]\n",
    "    ball_detections = sv.Detections.from_inference(ball_result)\n",
    "    for detection, class_id in zip(ball_detections.xyxy, ball_detections.class_id):\n",
    "        if class_id == BALL_ID:\n",
    "            x_min, y_min, x_max, y_max = detection\n",
    "            return ((x_min + x_max) / 2, (y_min + y_max) / 2)  # Return the center of the ball\n",
    "    return None  # Return None if no ball is found\n",
    "\n",
    "# Use the function to infer the ball center\n",
    "ball_center = infer_ball_center(frame)\n",
    "print(f\"Goalpost center: {goalpost_center}\")  # Print the center coordinates of the goalpost\n",
    "print(f\"Ball center: {ball_center}\")  # Print the center coordinates of the ball"
   ]
  }
 ],
 "metadata": {
  "kernelspec": {
   "display_name": "Python 3",
   "language": "python",
   "name": "python3"
  },
  "language_info": {
   "codemirror_mode": {
    "name": "ipython",
    "version": 3
   },
   "file_extension": ".py",
   "mimetype": "text/x-python",
   "name": "python",
   "nbconvert_exporter": "python",
   "pygments_lexer": "ipython3",
   "version": "3.11.3"
  }
 },
 "nbformat": 4,
 "nbformat_minor": 2
}
