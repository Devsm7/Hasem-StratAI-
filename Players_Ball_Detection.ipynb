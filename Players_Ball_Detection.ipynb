{
 "cells": [
  {
   "cell_type": "code",
   "execution_count": null,
   "metadata": {},
   "outputs": [],
   "source": [
    "from inference import get_model\n",
    "#from google.colab import userdata\n",
    "\n",
    "ROBOFLOW_API_KEY = \"ITfUpuY5QO9WTBpcEXTh\"  # Replace with your actual Roboflow API key\n",
    "\n",
    "PLAYER_DETECTION_MODEL_ID = \"football-players-detection-3zvbc/12\"\n",
    "PLAYER_DETECTION_MODEL = get_model(model_id=PLAYER_DETECTION_MODEL_ID, api_key=ROBOFLOW_API_KEY)"
   ]
  },
  {
   "cell_type": "markdown",
   "metadata": {},
   "source": [
    "Simple annotation with Boxes"
   ]
  },
  {
   "cell_type": "code",
   "execution_count": null,
   "metadata": {},
   "outputs": [],
   "source": [
    "SOURCE_VIDEO_PATH = \"C:/Users/user/Desktop/FootballAI/videos/goalMatch.mp4\"\n"
   ]
  },
  {
   "cell_type": "code",
   "execution_count": null,
   "metadata": {},
   "outputs": [],
   "source": [
    "import supervision as sv\n",
    "\n",
    "box_annotator = sv.BoxAnnotator(\n",
    "    color=sv.ColorPalette.from_hex(['#FF8C00', '#00BFFF', '#FF1493', '#FFD700']),\n",
    "    thickness=2\n",
    ")\n",
    "label_annotator = sv.LabelAnnotator(\n",
    "    color=sv.ColorPalette.from_hex(['#FF8C00', '#00BFFF', '#FF1493', '#FFD700']),\n",
    "    text_color=sv.Color.from_hex('#000000')\n",
    ")\n"
   ]
  },
  {
   "cell_type": "code",
   "execution_count": null,
   "metadata": {},
   "outputs": [],
   "source": [
    "\n",
    "frame_number = 0  # Change to the desired frame number\n",
    "frame_generator = sv.get_video_frames_generator(SOURCE_VIDEO_PATH)\n",
    "\n",
    "for i, frame in enumerate(frame_generator):\n",
    "    if i == frame_number:\n",
    "        # Run inference on the specific frame\n",
    "        result = PLAYER_DETECTION_MODEL.infer(frame, confidence=0.3)[0]\n",
    "        detections = sv.Detections.from_inference(result)\n",
    "\n",
    "        # Annotate the frame\n",
    "        annotated_frame = frame.copy()\n",
    "        annotated_frame = box_annotator.annotate(\n",
    "            scene=annotated_frame,\n",
    "            detections=detections\n",
    "        )\n",
    "        \n",
    "        labels = [\n",
    "          f\"{class_name} {confidence:.2f}\"\n",
    "          for class_name, confidence\n",
    "          in zip(detections[\"class_name\"] , detections.confidence)\n",
    "         ]\n",
    "        annotated_frame = label_annotator.annotate(annotated_frame , detections,labels =labels)##annotate the frame with the labels\n",
    "\n",
    "         # Show the annotated frame\n",
    "        sv.plot_image(annotated_frame)\n",
    "        break  # Stop after processing the specified frame\n"
   ]
  },
  {
   "cell_type": "markdown",
   "metadata": {},
   "source": [
    "GENERATING VIDEO WITH ANNOTATIONS"
   ]
  },
  {
   "cell_type": "code",
   "execution_count": null,
   "metadata": {},
   "outputs": [],
   "source": [
    "from tqdm import tqdm\n",
    "import supervision as sv\n",
    "\n",
    "SOURCE_VIDEO_PATH = \"C:/Users/user/Desktop/FootballAI/121364_0.mp4\"\n",
    "TARGET_VIDEO_PATH = \"C:/Users/user/Desktop/FootballAI/121364_0_result.mp4\"\n",
    "\n",
    "box_annotator = sv.BoxAnnotator(##Box annotator options like coloring and thickness\n",
    "    color = sv.ColorPalette.from_hex(['#FF8C00', '#00BFFF', '#FF1493', '#FFD700']),\n",
    "    thickness = 2\n",
    ")\n"
   ]
  },
  {
   "cell_type": "code",
   "execution_count": null,
   "metadata": {},
   "outputs": [],
   "source": [
    "video_info = sv.VideoInfo.from_video_path(SOURCE_VIDEO_PATH)##I will take the info from the source video such as resolution and frame rate to pass into the result video \n",
    "video_sink = sv.VideoSink(TARGET_VIDEO_PATH, video_info=video_info)##The result video\n",
    "frame_generator = sv.get_video_frames_generator(SOURCE_VIDEO_PATH)\n"
   ]
  },
  {
   "cell_type": "code",
   "execution_count": null,
   "metadata": {},
   "outputs": [],
   "source": [
    "\n",
    "\n",
    "\n",
    "with video_sink:\n",
    "     for frame in tqdm(frame_generator , total = video_info.total_frames):\n",
    "\n",
    "\n",
    "\n",
    "      label_annotator = sv.LabelAnnotator(##labeling the box and adding text\n",
    "          color = sv.ColorPalette.from_hex(['#FF8C00', '#00BFFF', '#FF1493', '#FFD700']),\n",
    "          text_color = sv.Color.from_hex('#000000')\n",
    "      )\n",
    "\n",
    "      frame = next(frame_generator)\n",
    "\n",
    "      result = PLAYER_DETECTION_MODEL.infer(frame,confidence = 0.3)[0]##This give me a row data of the detection\n",
    "      detections = sv.Detections.from_inference(result)##Converting the row data into standarized format\n",
    "\n",
    "\n",
    "      labels = [\n",
    "          f\"{class_name} {confidence:.2f}\"\n",
    "          for class_name, confidence\n",
    "          in zip(detections[\"class_name\"] , detections.confidence)\n",
    "      ]\n",
    "\n",
    "      annotated_frame = frame.copy()##Copying the frame to anotate it with boxes\n",
    "      annotated_frame = box_annotator.annotate(annotated_frame , detections)##annotate the frame with the detections\n",
    "      annotated_frame = label_annotator.annotate(annotated_frame , detections,labels =labels)##annotate the frame with the labels\n",
    "      video_sink.write_frame(annotated_frame)##writing the annotated frame and looping over all video frame "
   ]
  },
  {
   "cell_type": "code",
   "execution_count": null,
   "metadata": {},
   "outputs": [],
   "source": [
    "import supervision as sv\n",
    "from TeamClassifier import TeamClassifier\n",
    "\n",
    "SOURCE_VIDEO_PATH = \"C:/Users/user/Desktop/FootballAI/121364_0.mp4\"\n",
    "\n",
    "BALL_ID = 0\n",
    "PLAYER_ID = 2\n",
    "\n",
    "crops = extract_crops(SOURCE_VIDEO_PATH)\n",
    "\n",
    "team_classifier = TeamClassifier(device=DEVICE)\n",
    "team_classifier.fit(crops)\n",
    "\n",
    "ellipse_annotator = sv.EllipseAnnotator(\n",
    "    color=sv.ColorPalette.from_hex(['#00BFFF', '#FF1493', '#FFD700']),\n",
    "    thickness=2\n",
    ")\n",
    "label_annotator = sv.LabelAnnotator(\n",
    "    color=sv.ColorPalette.from_hex(['#00BFFF', '#FF1493', '#FFD700']),\n",
    "    text_color=sv.Color.from_hex('#000000'),\n",
    "    text_position=sv.Position.BOTTOM_CENTER\n",
    ")\n",
    "triangle_annotator = sv.TriangleAnnotator(\n",
    "    color=sv.Color.from_hex('#FFD700'),\n",
    "    base=25,\n",
    "    height=21,\n",
    "    outline_thickness=1\n",
    ")\n",
    "\n",
    "tracker = sv.ByteTrack()\n",
    "tracker.reset()"
   ]
  },
  {
   "cell_type": "markdown",
   "metadata": {},
   "source": [
    "#Classify the teams"
   ]
  },
  {
   "cell_type": "code",
   "execution_count": null,
   "metadata": {},
   "outputs": [],
   "source": [
    "\n",
    "frame_generator = sv.get_video_frames_generator(SOURCE_VIDEO_PATH)\n",
    "frame = next(frame_generator)\n",
    "\n",
    "result = PLAYER_DETECTION_MODEL.infer(frame, confidence=0.3)[0]\n",
    "detections = sv.Detections.from_inference(result)\n",
    "\n",
    "ball_detections = detections[detections.class_id == BALL_ID]\n",
    "ball_detections.xyxy = sv.pad_boxes(xyxy=ball_detections.xyxy, px=10)\n",
    "\n",
    "all_detections = detections[detections.class_id != BALL_ID]\n",
    "all_detections = all_detections.with_nms(threshold=0.5, class_agnostic=True)\n",
    "all_detections = tracker.update_with_detections(detections=all_detections)\n",
    "\n",
    "players_detections = all_detections[all_detections.class_id == PLAYER_ID]\n",
    "players_crops = [sv.crop_image(frame,xyxy) for xyxy in players_detections.xyxy]\n",
    "players_detections.class_id = team_classifier.predict(players_crops)\n",
    "\n",
    "labels = [\n",
    "    f\"#{tracker_id}\"\n",
    "    for tracker_id\n",
    "    in players_detections.tracker_id\n",
    "]\n",
    "\n",
    "annotated_frame = frame.copy()\n",
    "annotated_frame = ellipse_annotator.annotate( scene=annotated_frame, detections = players_detections)\n",
    "annotated_frame = label_annotator.annotate(scene=annotated_frame,detections = players_detections, labels=labels)\n",
    "annotated_frame = triangle_annotator.annotate( scene=annotated_frame, detections = ball_detections)\n",
    "\n",
    "sv.plot_image(annotated_frame)"
   ]
  },
  {
   "cell_type": "code",
   "execution_count": null,
   "metadata": {},
   "outputs": [],
   "source": [
    "from tqdm import tqdm \n",
    "SOURCE_VIDEO_PATH = \"C:/Users/user/Desktop/FootballAI/121364_0.mp4\"\n",
    "\n",
    "STRIDE = 30 \n",
    "PLAYER_ID =2\n",
    "def extract_crops(source_video_path : str):\n",
    "        frame_generator = sv.get_video_frames_generator(source_video_path, stride=STRIDE)##Getting the frames with a stride of 30\n",
    "\n",
    "        crops = []\n",
    "\n",
    "        for frame in tqdm(frame_generator , desc=\"Extracting crops\"):\n",
    "            result = PLAYER_DETECTION_MODEL.infer(frame, confidence=0.5)[0]\n",
    "            detections = sv.Detections.from_inference(result)\n",
    "            detections = detections.with_nms(threshold=0.5 , class_agnostic=True)\n",
    "            detections = detections[detections.class_id == PLAYER_ID]\n",
    "\n",
    "            crops += [\n",
    "                sv.crop_image(frame,xyxy)\n",
    "                for xyxy\n",
    "                in detections.xyxy\n",
    "            ]\n",
    "        return crops"
   ]
  }
 ],
 "metadata": {
  "kernelspec": {
   "display_name": "Python 3",
   "language": "python",
   "name": "python3"
  },
  "language_info": {
   "codemirror_mode": {
    "name": "ipython",
    "version": 3
   },
   "file_extension": ".py",
   "mimetype": "text/x-python",
   "name": "python",
   "nbconvert_exporter": "python",
   "pygments_lexer": "ipython3",
   "version": "3.11.3"
  }
 },
 "nbformat": 4,
 "nbformat_minor": 2
}
