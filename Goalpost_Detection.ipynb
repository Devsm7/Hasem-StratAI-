{
 "cells": [
  {
   "cell_type": "markdown",
   "metadata": {},
   "source": [
    "##Download the model from Roboflow"
   ]
  },
  {
   "cell_type": "code",
   "execution_count": null,
   "metadata": {},
   "outputs": [],
   "source": [
    "from inference import get_model\n",
    "#from google.colab import userdata\n",
    "\n",
    "ROBOFLOW_API_KEY = \"ITfUpuY5QO9WTBpcEXTh\"  # Replace with your actual Roboflow API key\n",
    "\n",
    "GOALPOST_DETECTION_MODEL_ID = \"football-goalpost/3\"\n",
    "GOAPOSTL_DETECTION_MODEL = get_model(model_id=GOALPOST_DETECTION_MODEL_ID, api_key=ROBOFLOW_API_KEY)"
   ]
  },
  {
   "cell_type": "markdown",
   "metadata": {},
   "source": [
    "##Use the model to detect the goalpost"
   ]
  },
  {
   "cell_type": "code",
   "execution_count": null,
   "metadata": {},
   "outputs": [],
   "source": [
    "import supervision as sv\n",
    "import numpy as np  \n",
    "\n",
    "SOURCE_VIDEO_PATH = \"C:/Users/user/Desktop/FootballAI/videos/goalMatch.mp4\"\n",
    "\n",
    "box_annotator = sv.BoxAnnotator(\n",
    "    color=sv.ColorPalette.from_hex(['#FF8C00', '#00BFFF', '#FF1493', '#FFD700']),\n",
    "    thickness=2\n",
    ")\n",
    "\n",
    "frame_number = 2000  # Change to the desired frame number\n",
    "frame_generator = sv.get_video_frames_generator(SOURCE_VIDEO_PATH)\n",
    "\n",
    "for i, frame in enumerate(frame_generator):\n",
    "    if i == frame_number:\n",
    "        # Run inference on the specific frame\n",
    "        result = GOALPOST_DETECTION_MODEL.infer(frame, confidence=0.5)[0]\n",
    "        detections = sv.Detections.from_inference(result)\n",
    "\n",
    "        label_annotator = sv.LabelAnnotator(##labeling the box and adding text\n",
    "          color = sv.ColorPalette.from_hex(['#FF8C00', '#00BFFF', '#FF1493', '#FFD700']),\n",
    "          text_color = sv.Color.from_hex('#000000')\n",
    "           )\n",
    "        # Annotate the frame\n",
    "        annotated_frame = frame.copy()\n",
    "        annotated_frame = box_annotator.annotate(\n",
    "            scene=annotated_frame,\n",
    "            detections=detections\n",
    "          )\n",
    "\n",
    "        labels = [\n",
    "           f\"{class_name} {confidence:.2f}\"\n",
    "          for class_name, confidence\n",
    "          in zip(detections[\"class_name\"] , detections.confidence)\n",
    "           ]\n",
    "\n",
    "        annotated_frame = label_annotator.annotate(annotated_frame , detections,labels =labels)##annotate the frame with the labels\n",
    " \n",
    "        # Show the annotated frame\n",
    "        sv.plot_image(annotated_frame)\n"
   ]
  },
  {
   "cell_type": "markdown",
   "metadata": {},
   "source": [
    "##Drwing a red circle on the goalpost center\n"
   ]
  },
  {
   "cell_type": "code",
   "execution_count": null,
   "metadata": {},
   "outputs": [],
   "source": [
    "import cv2\n",
    "import numpy as np\n",
    "import supervision as sv\n",
    "goalpost_center = None  # Variable to store the center of the goalpost\n",
    "\n",
    "image_path = \"C:/Users/user/Desktop/FootballAI/videos/image.png\"  # Path to the image\n",
    "image = cv2.imread(image_path)  # Load the image using OpenCV\n",
    "\n",
    "result = GOALPOST_DETECTION_MODEL.infer(image, confidence=0.3)[0]\n",
    "\n",
    "detections = sv.Detections.from_inference(result)\n",
    "print(detections.class_id)\n",
    "\n",
    "for detection, class_id in zip(detections.xyxy, detections.class_id):\n",
    "    x_min, y_min, x_max, y_max = detection\n",
    "    goalpost_center = ((x_min + x_max) / 2, (y_min + y_max) / 2)  # Calculate the center of the goalpost\n",
    "    print(f\"Goalpost center: {goalpost_center}\")  # Print the center coordinates\n",
    "    \n",
    "    # Draw a red dotted circle at the center\n",
    "    center_coordinates = (int(goalpost_center[0]), int(goalpost_center[1]))\n",
    "    radius = 5\n",
    "    color = (0, 0, 255)  # Red color in BGR\n",
    "    thickness = 2\n",
    "    line_type = cv2.LINE_AA  # Anti-aliased line for better quality\n",
    "    cv2.circle(image, center_coordinates, radius, color, thickness, lineType=line_type)\n",
    "    \n",
    "    break  # Stop after finding the first goalpost\n",
    "\n",
    "# Display the image with the red dotted circle\n",
    "cv2.imshow(\"Image with Center Point\", image)\n",
    "cv2.waitKey(0)\n",
    "cv2.destroyAllWindows()\n"
   ]
  }
 ],
 "metadata": {
  "kernelspec": {
   "display_name": "Python 3",
   "language": "python",
   "name": "python3"
  },
  "language_info": {
   "codemirror_mode": {
    "name": "ipython",
    "version": 3
   },
   "file_extension": ".py",
   "mimetype": "text/x-python",
   "name": "python",
   "nbconvert_exporter": "python",
   "pygments_lexer": "ipython3",
   "version": "3.11.3"
  }
 },
 "nbformat": 4,
 "nbformat_minor": 2
}
